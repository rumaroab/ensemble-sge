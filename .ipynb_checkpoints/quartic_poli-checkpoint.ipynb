{
 "cells": [
  {
   "cell_type": "code",
   "execution_count": null,
   "metadata": {},
   "outputs": [],
   "source": [
    "title = \"Quartic Polinomial \"\n",
    "grname = \"quartic_poli\"\n",
    "\n",
    "filename = \"symbolic_quartic_poli_2_1\"\n",
    "filename1 = \"symbolic_quartic_poli_2_0\"\n",
    "filenamefull = \"symbolic_quartic_poli_0_0\"\n",
    "\n",
    "data = readFile(\"results/v2/\"+filename+\".json\")\n",
    "data1 = readFile(\"results/v2/\"+filename1+\".json\")\n",
    "datafull = readFile(\"results/v2/\"+filenamefull+\".json\")\n",
    "\n",
    "plt.title(title)\n",
    "#plt.plot([data[i][\"ensemble\"]for i in range(len(data))], color=\"red\", label='Ensemble SGE Mean')\n",
    "#plt.plot([data1[i][\"ensemble\"]for i in range(len(data))], color=\"orange\", label='Ensemble SGE Median')\n",
    "#plt.plot([data[i][\"best\"]for i in range(len(data))], color=\"green\", label='SGE')\n",
    "plt.plot([datafull[i][\"best\"]for i in range(len(datafull))], color=\"green\", label='SGE')\n",
    "plt.legend()\n",
    "\n",
    "#plt.ylabel([data[i][\"generation\"] for i in range(len(data)) ])    \n",
    "#plt.savefig('results/plots/'+grname+'.png')\n",
    "\n",
    "plt.show()"
   ]
  }
 ],
 "metadata": {
  "kernelspec": {
   "display_name": "Python 3",
   "language": "python",
   "name": "python3"
  },
  "language_info": {
   "codemirror_mode": {
    "name": "ipython",
    "version": 3
   },
   "file_extension": ".py",
   "mimetype": "text/x-python",
   "name": "python",
   "nbconvert_exporter": "python",
   "pygments_lexer": "ipython3",
   "version": "3.7.4"
  }
 },
 "nbformat": 4,
 "nbformat_minor": 2
}
